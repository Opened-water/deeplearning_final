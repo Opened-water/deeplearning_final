{
  "cells": [
    {
      "cell_type": "markdown",
      "metadata": {
        "id": "KOrBh9UHL_nt"
      },
      "source": [
        "# **3D CNN from CT**"
      ]
    },
    {
      "cell_type": "markdown",
      "metadata": {
        "id": "ZkPFXv_jQQX6"
      },
      "source": [
        "# Set up"
      ]
    },
    {
      "cell_type": "code",
      "execution_count": 1,
      "metadata": {
        "id": "KeUaZYXAQSY1"
      },
      "outputs": [],
      "source": [
        "import os\n",
        "import zipfile\n",
        "import numpy as np\n",
        "import torch\n",
        "import torchvision.datasets as dsets\n",
        "import torchvision.transforms as transforms\n",
        "import torch.nn.init\n",
        "import torch.utils.model_zoo\n",
        "import torch.nn.functional\n",
        "import matplotlib.pyplot as plt"
      ]
    },
    {
      "cell_type": "code",
      "execution_count": 4,
      "metadata": {
        "id": "Zn5HsK4sQ989"
      },
      "outputs": [],
      "source": [
        "device = 'cuda' if torch.cuda.is_available() else 'cpu'\n",
        "\n",
        "# 랜덤 시드 고정\n",
        "torch.manual_seed(42)\n",
        "np.random.seed(42)\n",
        "\n",
        "# GPU 사용 가능일 경우 랜덤 시드 고정\n",
        "if device == 'cuda':\n",
        "    torch.cuda.manual_seed_all(42)"
      ]
    },
    {
      "cell_type": "markdown",
      "metadata": {
        "id": "dPZUyCwIP9GG"
      },
      "source": [
        "# Downroad data"
      ]
    },
    {
      "cell_type": "code",
      "execution_count": 5,
      "metadata": {
        "colab": {
          "base_uri": "https://localhost:8080/",
          "height": 116,
          "referenced_widgets": [
            "3ff89e5d48e54d86b614e388577132ba",
            "b2d6268fa07f43229c148fede6af1c7c",
            "9ac4fb8d84b345879f51dfa8ef9b3ec0",
            "be7f5dd615474195a026537a516494a1",
            "e896d36003b74a8fa2c6947bfae3f8a0",
            "fb866fb88365406fa7f1a35c90bfecb3",
            "6b90f1953f5947bdb04b798c3ad704a8",
            "176111f257e24d379aa929643aa58351",
            "ea1a09e8e1b24d458ed791506d4c6ef6",
            "f62abf159ad840f594303779c9334cb4",
            "d1cfa41be6884e3c8789a07cc85f217f",
            "edfb6f4922b04b09a4028b37fbb9e0f4",
            "d21628ae92ff491993a983c9aab2fefa",
            "2a71a88b52284c5a8489da0aad9d7007",
            "1f3c093bd9044305a5ccde8c71bcd0ff",
            "7d553b2044894916bf62039e89d4d2a0",
            "9217e6cfeae34080bedee2b329f24aee",
            "9e13ac681be24717a7c91e4fdf56179a",
            "c12723e68e5c444cb57b67d12836e7bb",
            "447ac2da5def4d4ca0128fc107d6826b",
            "aab80dcfcab14e18ab9c221c19fa1853",
            "184af8cb2d9a4a9ab6076f8ec5a573d5"
          ]
        },
        "id": "B9TG8wWLR10p",
        "outputId": "df934008-c3ba-43c3-dce9-b294b8c756f2"
      },
      "outputs": [
        {
          "output_type": "stream",
          "name": "stderr",
          "text": [
            "Downloading: \"https://github.com/hasibzunair/3D-image-classification-tutorial/releases/download/v0.2/CT-0.zip\" to /content/CT-0.zip\n"
          ]
        },
        {
          "output_type": "display_data",
          "data": {
            "text/plain": [
              "  0%|          | 0.00/0.99G [00:00<?, ?B/s]"
            ],
            "application/vnd.jupyter.widget-view+json": {
              "version_major": 2,
              "version_minor": 0,
              "model_id": "3ff89e5d48e54d86b614e388577132ba"
            }
          },
          "metadata": {}
        },
        {
          "output_type": "stream",
          "name": "stderr",
          "text": [
            "Downloading: \"https://github.com/hasibzunair/3D-image-classification-tutorial/releases/download/v0.2/CT-23.zip\" to /content/CT-23.zip\n"
          ]
        },
        {
          "output_type": "display_data",
          "data": {
            "text/plain": [
              "  0%|          | 0.00/997M [00:00<?, ?B/s]"
            ],
            "application/vnd.jupyter.widget-view+json": {
              "version_major": 2,
              "version_minor": 0,
              "model_id": "edfb6f4922b04b09a4028b37fbb9e0f4"
            }
          },
          "metadata": {}
        }
      ],
      "source": [
        "# Download url of normal CT scans.\n",
        "url = \"https://github.com/hasibzunair/3D-image-classification-tutorial/releases/download/v0.2/CT-0.zip\"\n",
        "filename = os.path.join(os.getcwd(), \"CT-0.zip\")\n",
        "try :\n",
        "  torch.utils.model_zoo.load_url(url, file_name=filename)\n",
        "except :\n",
        "  pass\n",
        "\n",
        "# Download url of abnormal CT scans.\n",
        "url = \"https://github.com/hasibzunair/3D-image-classification-tutorial/releases/download/v0.2/CT-23.zip\"\n",
        "filename = os.path.join(os.getcwd(), \"CT-23.zip\")\n",
        "try :\n",
        "  torch.utils.model_zoo.load_url(url, file_name=filename)\n",
        "except :\n",
        "  pass\n",
        "\n",
        "# Make a directory to store the data.\n",
        "os.makedirs(\"MosMedData\")\n",
        "\n",
        "# Unzip data in the newly created directory.\n",
        "with zipfile.ZipFile(\"CT-0.zip\", \"r\") as z_fp:\n",
        "    z_fp.extractall(\"./MosMedData/\")\n",
        "\n",
        "with zipfile.ZipFile(\"CT-23.zip\", \"r\") as z_fp:\n",
        "    z_fp.extractall(\"./MosMedData/\")\n",
        "  "
      ]
    },
    {
      "cell_type": "markdown",
      "metadata": {
        "id": "9y05iehcWIFa"
      },
      "source": [
        "# Preprocessing"
      ]
    },
    {
      "cell_type": "code",
      "execution_count": 6,
      "metadata": {
        "id": "h-NevkEJvpSD"
      },
      "outputs": [],
      "source": [
        "import nibabel as nib\n",
        "\n",
        "from scipy import ndimage\n",
        "\n",
        "\n",
        "def read_nifti_file(filepath):\n",
        "    \"\"\"Read and load volume\"\"\"\n",
        "    # Read file\n",
        "    scan = nib.load(filepath)\n",
        "    # Get raw data\n",
        "    scan = scan.get_fdata()\n",
        "    return scan\n",
        "\n",
        "\n",
        "def normalize(volume):\n",
        "    \"\"\"Normalize the volume\"\"\"\n",
        "    min = -1000\n",
        "    max = 400\n",
        "    volume[volume < min] = min\n",
        "    volume[volume > max] = max\n",
        "    volume = (volume - min) / (max - min)\n",
        "    volume = volume.astype(\"float32\")\n",
        "    return volume\n",
        "\n",
        "\n",
        "def resize_volume(img):\n",
        "    \"\"\"Resize across z-axis\"\"\"\n",
        "    # Set the desired depth\n",
        "    desired_depth = 64\n",
        "    desired_width = 128\n",
        "    desired_height = 128\n",
        "    # Get current depth\n",
        "    current_depth = img.shape[-1]\n",
        "    current_width = img.shape[0]\n",
        "    current_height = img.shape[1]\n",
        "    # Compute depth factor\n",
        "    depth = current_depth / desired_depth\n",
        "    width = current_width / desired_width\n",
        "    height = current_height / desired_height\n",
        "    depth_factor = 1 / depth\n",
        "    width_factor = 1 / width\n",
        "    height_factor = 1 / height\n",
        "    # Rotate\n",
        "    img = ndimage.rotate(img, 90, reshape=False)\n",
        "    # Resize across z-axis\n",
        "    img = ndimage.zoom(img, (width_factor, height_factor, depth_factor), order=1)\n",
        "    return img\n",
        "\n",
        "\n",
        "def process_scan(path):\n",
        "    \"\"\"Read and resize volume\"\"\"\n",
        "    # Read scan\n",
        "    volume = read_nifti_file(path)\n",
        "    # Normalize\n",
        "    volume = normalize(volume)\n",
        "    # Resize width, height and depth\n",
        "    volume = resize_volume(volume)\n",
        "    # Reshape to (Depth, Height, Width)\n",
        "    volume = volume.reshape((volume.shape[-1],volume.shape[1],volume.shape[0]))\n",
        "    volume = np.expand_dims(volume, axis = 0)\n",
        "    return volume"
      ]
    },
    {
      "cell_type": "code",
      "execution_count": 7,
      "metadata": {
        "colab": {
          "base_uri": "https://localhost:8080/"
        },
        "id": "j2vxRJfuvyRx",
        "outputId": "5c6b7030-a76d-4f29-81ee-7d6f5121ccb7"
      },
      "outputs": [
        {
          "output_type": "stream",
          "name": "stdout",
          "text": [
            "CT scans with normal lung tissue: 100\n",
            "CT scans with abnormal lung tissue: 100\n"
          ]
        }
      ],
      "source": [
        "# Folder \"CT-0\" consist of CT scans having normal lung tissue,\n",
        "# no CT-signs of viral pneumonia.\n",
        "normal_scan_paths = [\n",
        "    os.path.join(os.getcwd(), \"MosMedData/CT-0\", x)\n",
        "    for x in os.listdir(\"MosMedData/CT-0\")\n",
        "]\n",
        "# Folder \"CT-23\" consist of CT scans having several ground-glass opacifications,\n",
        "# involvement of lung parenchyma.\n",
        "abnormal_scan_paths = [\n",
        "    os.path.join(os.getcwd(), \"MosMedData/CT-23\", x)\n",
        "    for x in os.listdir(\"MosMedData/CT-23\")\n",
        "]\n",
        "\n",
        "print(\"CT scans with normal lung tissue: \" + str(len(normal_scan_paths)))\n",
        "print(\"CT scans with abnormal lung tissue: \" + str(len(abnormal_scan_paths)))\n"
      ]
    },
    {
      "cell_type": "code",
      "execution_count": 8,
      "metadata": {
        "colab": {
          "base_uri": "https://localhost:8080/"
        },
        "id": "L7EMuZeaw5hK",
        "outputId": "ffae611a-277e-468f-8663-39008b7ed305"
      },
      "outputs": [
        {
          "output_type": "stream",
          "name": "stdout",
          "text": [
            "Number of samples in train and validation are 140 and 60.\n"
          ]
        }
      ],
      "source": [
        "  # Read and process the scans.\n",
        "  # Each scan is resized across height, width, and depth and rescaled.\n",
        "  abnormal_scans = np.array([process_scan(path) for path in abnormal_scan_paths])\n",
        "  normal_scans = np.array([process_scan(path) for path in normal_scan_paths])\n",
        "\n",
        "  # For the CT scans having presence of viral pneumonia\n",
        "  # assign 1, for the normal ones assign 0.\n",
        "  abnormal_labels = np.array([1 for _ in range(len(abnormal_scans))],dtype = np.float32)\n",
        "  normal_labels = np.array([0 for _ in range(len(normal_scans))],dtype = np.float32)\n",
        "\n",
        "  # Split data in the ratio 70-30 for training and validation.\n",
        "x_train = np.concatenate((abnormal_scans[:70], normal_scans[:70]), axis=0)\n",
        "y_train = np.concatenate((abnormal_labels[:70], normal_labels[:70]), axis=0)\n",
        "x_val = np.concatenate((abnormal_scans[70:], normal_scans[70:]), axis=0)\n",
        "y_val = np.concatenate((abnormal_labels[70:], normal_labels[70:]), axis=0)\n",
        "print(\n",
        "    \"Number of samples in train and validation are %d and %d.\"\n",
        "    % (x_train.shape[0], x_val.shape[0])\n",
        ")"
      ]
    },
    {
      "cell_type": "markdown",
      "metadata": {
        "id": "BGOKUN9i1UuD"
      },
      "source": [
        "# Data to Data loader"
      ]
    },
    {
      "cell_type": "code",
      "execution_count": 9,
      "metadata": {
        "colab": {
          "base_uri": "https://localhost:8080/"
        },
        "id": "VaUv4kd7x4qN",
        "outputId": "0234d4ef-a12a-42bd-f982-5c05139da301"
      },
      "outputs": [
        {
          "output_type": "stream",
          "name": "stdout",
          "text": [
            "Number of samples in train and validation are 140 and 60.\n"
          ]
        }
      ],
      "source": [
        "  # Split data in the ratio 70-30 for training and validation.\n",
        "x_train = torch.from_numpy(np.concatenate((abnormal_scans[:70], normal_scans[:70]), axis=0))\n",
        "y_train = torch.from_numpy(np.concatenate((abnormal_labels[:70], normal_labels[:70]), axis=0))\n",
        "x_val = torch.from_numpy(np.concatenate((abnormal_scans[70:], normal_scans[70:]), axis=0))\n",
        "y_val = torch.from_numpy(np.concatenate((abnormal_labels[70:], normal_labels[70:]), axis=0))\n",
        "print(\n",
        "    \"Number of samples in train and validation are %d and %d.\"\n",
        "    % (x_train.shape[0], x_val.shape[0])\n",
        ")"
      ]
    },
    {
      "cell_type": "code",
      "execution_count": 10,
      "metadata": {
        "id": "RTeMjD-SXiat"
      },
      "outputs": [],
      "source": [
        "from torch.utils.data import TensorDataset # 텐서데이터셋\n",
        "from torch.utils.data import DataLoader # 데이터로더\n",
        "\n",
        "train_dataset = TensorDataset(x_train, y_train)\n",
        "train_dataloader = DataLoader(train_dataset, batch_size=4, shuffle=True)\n",
        "\n",
        "valid_dataset = TensorDataset(x_val, y_val)\n",
        "valid_dataloader = DataLoader(valid_dataset, batch_size=2, shuffle=True)"
      ]
    },
    {
      "cell_type": "markdown",
      "metadata": {
        "id": "ApSTfeoxZ5fI"
      },
      "source": [
        "# Hyperparameter set up "
      ]
    },
    {
      "cell_type": "code",
      "execution_count": 21,
      "metadata": {
        "id": "GLnT7zcOZ8DF"
      },
      "outputs": [],
      "source": [
        "learning_rate = 0.0001\n",
        "training_epochs = 60"
      ]
    },
    {
      "cell_type": "markdown",
      "metadata": {
        "id": "CW6CZPdFQ9AG"
      },
      "source": [
        "# 3D-CNN model defination"
      ]
    },
    {
      "cell_type": "code",
      "execution_count": 12,
      "metadata": {
        "id": "NELo8JHYQ8os"
      },
      "outputs": [],
      "source": [
        "class cnn_3d_model(torch.nn.Module):\n",
        "\n",
        "    def __init__(self):\n",
        "        super(cnn_3d_model, self).__init__()\n",
        "\n",
        "        self.layer1 = torch.nn.Sequential(\n",
        "            torch.nn.Conv3d(1, 64, kernel_size=3),\n",
        "            torch.nn.ReLU(),\n",
        "            torch.nn.MaxPool3d(kernel_size=2, stride=2),\n",
        "            torch.nn.BatchNorm3d(num_features = 64)\n",
        "            )\n",
        "        \n",
        "\n",
        "        self.layer2_1 = torch.nn.Sequential(\n",
        "            torch.nn.Conv3d(64, 64, kernel_size = 3,padding = 1),\n",
        "            torch.nn.ReLU(),\n",
        "            torch.nn.Conv3d(64, 64, kernel_size = 3,padding = 1),\n",
        "            )\n",
        "        \n",
        "        self.layer2_2 =torch.nn.Sequential(\n",
        "            torch.nn.MaxPool3d(kernel_size=2, stride=2),\n",
        "            torch.nn.BatchNorm3d(num_features = 64)\n",
        "            )\n",
        "        \n",
        "\n",
        "        self.layer3 = torch.nn.Sequential(\n",
        "            torch.nn.Conv3d(64, 128, kernel_size=3),\n",
        "            torch.nn.ReLU(),\n",
        "            torch.nn.MaxPool3d(kernel_size=2, stride=2),\n",
        "            torch.nn.BatchNorm3d(num_features = 128)\n",
        "            )    \n",
        "        \n",
        "        self.layer4 = torch.nn.Sequential(\n",
        "            torch.nn.Conv3d(128, 256, kernel_size=3),\n",
        "            torch.nn.ReLU(),\n",
        "            torch.nn.MaxPool3d(kernel_size=2, stride=2),\n",
        "            torch.nn.BatchNorm3d(num_features = 256)\n",
        "            )\n",
        "        \n",
        "        # global average pool 은 forward에서 \n",
        "\n",
        "\n",
        "        self.layer_fc1 = torch.nn.Sequential(\n",
        "            torch.nn.Linear(256, 512),\n",
        "            torch.nn.ReLU() \n",
        "        )\n",
        "\n",
        "        self.layer_fc2 = torch.nn.Sequential(\n",
        "            torch.nn.Linear(512, 1),\n",
        "            torch.nn.Sigmoid() \n",
        "        )\n",
        "\n",
        "    def forward(self, x):\n",
        "        out_ = self.layer1(x)\n",
        "        out = self.layer2_1(out_)\n",
        "        out = out + out_\n",
        "        out = self.layer2_2(out)\n",
        "        out = self.layer3(out)\n",
        "        out = self.layer4(out)\n",
        "        out = out.view(out.shape[0],-1, 256)   # globalaveragepooling 과정1\n",
        "        out = torch.mean(out,1)   # globalaveragepooling 과정2\n",
        "        out = self.layer_fc1(out)\n",
        "        out = torch.nn.Dropout(p=0.3)(out)\n",
        "        out = self.layer_fc2(out)\n",
        "        return out"
      ]
    },
    {
      "cell_type": "code",
      "execution_count": 22,
      "metadata": {
        "id": "3Wnl7C1xiMVP"
      },
      "outputs": [],
      "source": [
        "model = cnn_3d_model().to(device)"
      ]
    },
    {
      "cell_type": "code",
      "execution_count": 23,
      "metadata": {
        "id": "7u35iMiSiWqS"
      },
      "outputs": [],
      "source": [
        "criterion = torch.nn.BCELoss().to(device)\n",
        "optimizer = torch.optim.Adam(model.parameters(), lr=learning_rate)"
      ]
    },
    {
      "cell_type": "markdown",
      "metadata": {
        "id": "NZj-aQLhh5Rv"
      },
      "source": [
        "# Model training"
      ]
    },
    {
      "cell_type": "code",
      "execution_count": 24,
      "metadata": {
        "id": "AU_rPKbkiKbU"
      },
      "outputs": [],
      "source": [
        "losses = []\n",
        "losses_val = []\n",
        "acc_val = []\n",
        "\n",
        "for epoch in range(training_epochs):\n",
        "    avg_cost = 0\n",
        "    train_len = len(train_dataloader)\n",
        "    val_len = len(valid_dataloader)\n",
        "\n",
        "    for X, Y in train_dataloader: # 미니 배치 단위로 꺼내온다. X는 미니 배치, Y는 레이블.\n",
        "        # image is already size of (28x28), no reshape\n",
        "        # label is not one-hot encoded\n",
        "        X = X.to(device)\n",
        "        Y = Y.to(device)\n",
        "\n",
        "        optimizer.zero_grad()\n",
        "        hypothesis = model(X)\n",
        "        cost = criterion(hypothesis.ravel(), Y)\n",
        "        cost.backward()\n",
        "        optimizer.step()\n",
        "\n",
        "        avg_cost += cost / train_len\n",
        "\n",
        "    losses.append(avg_cost.cpu().item())\n",
        "\n",
        "    with torch.no_grad():\n",
        "      avg_cost = 0\n",
        "      correct = 0\n",
        "      for X, Y in valid_dataloader:\n",
        "        X = X.to(device)\n",
        "        Y = Y.to(device)\n",
        "        \n",
        "        hypothesis = model(X)\n",
        "        cost = criterion(hypothesis.ravel(), Y)\n",
        "\n",
        "        avg_cost += cost / val_len\n",
        "\n",
        "        predicted = (hypothesis > 0.5).float().ravel()\n",
        "        correct += (predicted == Y).sum().item()\n",
        "\n",
        "      acc_val.append(correct)\n",
        "\n",
        "      losses_val.append(avg_cost.cpu().item())\n"
      ]
    },
    {
      "cell_type": "markdown",
      "metadata": {
        "id": "8tthZ-Bx-HpQ"
      },
      "source": [
        "# Visualizing model peformance"
      ]
    },
    {
      "cell_type": "code",
      "execution_count": 31,
      "metadata": {
        "colab": {
          "base_uri": "https://localhost:8080/",
          "height": 313
        },
        "id": "iNWRKW-aDYzA",
        "outputId": "1fa86a72-6661-4374-a1e6-29da0fd0bf8a"
      },
      "outputs": [
        {
          "output_type": "execute_result",
          "data": {
            "text/plain": [
              "<matplotlib.legend.Legend at 0x7f074c54dfd0>"
            ]
          },
          "metadata": {},
          "execution_count": 31
        },
        {
          "output_type": "display_data",
          "data": {
            "text/plain": [
              "<Figure size 432x288 with 1 Axes>"
            ],
            "image/png": "[encoded data removed]"
          },
          "metadata": {
            "needs_background": "light"
          }
        }
      ],
      "source": [
        "plt.plot(losses)\n",
        "plt.plot(losses_val)\n",
        "plt.title(\"Model losses\")\n",
        "plt.xlabel(\"epochs\")\n",
        "plt.legend([\"train\", \"val\"])"
      ]
    },
    {
      "cell_type": "code",
      "source": [
        "print(losses)"
      ],
      "metadata": {
        "colab": {
          "base_uri": "https://localhost:8080/"
        },
        "id": "GDtguHkbqTyg",
        "outputId": "b6ec0a12-a296-4525-ac50-2d4961908b8b"
      },
      "execution_count": 33,
      "outputs": [
        {
          "output_type": "stream",
          "name": "stdout",
          "text": [
            "[0.6518648266792297, 0.611200749874115, 0.5360328555107117, 0.4926435351371765, 0.4341389536857605, 0.24809885025024414, 0.14990739524364471, 0.08342189341783524, 0.03959263116121292, 0.020779579877853394, 0.012285488657653332, 0.011067871004343033, 0.007411203812807798, 0.006064307875931263, 0.005531026050448418, 0.00399013701826334, 0.003489759285002947, 0.0030365039128810167, 0.0027315921615809202, 0.0026266900822520256, 0.0019362635212019086, 0.0021613705903291702, 0.001464101835153997, 0.001437970669940114, 0.0014722495106980205, 0.0011734949657693505, 0.0010252982610836625, 0.0008426624117419124, 0.0008620826411060989, 0.0007487821858376265, 0.0007835400174371898, 0.0007497442420572042, 0.000831437879242003, 0.0005406693671829998, 0.0005540932761505246, 0.0006354140932671726, 0.0005517045501619577, 0.0004375384305603802, 0.00045474382932297885, 0.00046863031457178295, 0.00037266177241690457, 0.0003679704386740923, 0.00031571206636726856, 0.0003189725975971669, 0.0003068694786634296, 0.0003187624388374388, 0.00030691028223372996, 0.00026798457838594913, 0.0002611415402498096, 0.00027929694624617696, 0.00021114984701853245, 0.00022218722733668983, 0.00024092603416647762, 0.00019936422177124768, 0.00023944101121742278, 0.00017842129454948008, 0.0001566110731801018, 0.00018066969641949981, 0.00016145419795066118, 0.00014411415031645447]\n"
          ]
        }
      ]
    },
    {
      "cell_type": "code",
      "source": [
        "print(losses_val)"
      ],
      "metadata": {
        "colab": {
          "base_uri": "https://localhost:8080/"
        },
        "id": "MaGDx_0ZqZye",
        "outputId": "8c4162e6-6af1-4614-f7b5-1ba3d1084f16"
      },
      "execution_count": 34,
      "outputs": [
        {
          "output_type": "stream",
          "name": "stdout",
          "text": [
            "[0.6520937085151672, 0.6107217073440552, 0.643854022026062, 0.6280462741851807, 0.6097981333732605, 0.5882202386856079, 0.5979469418525696, 0.7063540816307068, 0.6301725506782532, 0.6682202219963074, 0.640937328338623, 0.669455349445343, 0.6241245269775391, 0.6310354471206665, 0.6910175085067749, 0.6528967618942261, 0.7470521330833435, 0.7272776961326599, 0.7075871825218201, 0.6709694266319275, 0.6754607558250427, 0.7480673789978027, 0.7464994192123413, 0.7357330322265625, 0.7996067404747009, 0.7266739010810852, 0.7747170329093933, 0.7116649150848389, 0.7970539331436157, 0.7914073467254639, 0.7913716435432434, 0.764055073261261, 0.8235607743263245, 0.7554628849029541, 0.8443452715873718, 0.7476187348365784, 0.8449795246124268, 0.7723921537399292, 0.8071632385253906, 0.7965564727783203, 0.7456313967704773, 0.8206340670585632, 0.8296554088592529, 0.7716848254203796, 0.7809228301048279, 0.855232834815979, 0.8108013272285461, 0.8310322761535645, 0.8494510650634766, 0.7869012355804443, 0.8697624206542969, 0.8291141986846924, 0.8464556336402893, 0.8602100014686584, 0.8770409822463989, 0.8944002985954285, 0.8996366858482361, 0.852888822555542, 0.8475469350814819, 0.8415842652320862]\n"
          ]
        }
      ]
    },
    {
      "cell_type": "code",
      "source": [
        "print(model)"
      ],
      "metadata": {
        "colab": {
          "base_uri": "https://localhost:8080/"
        },
        "id": "GU4UPDyfqg5Z",
        "outputId": "da0bc4a6-b88a-45b8-bb4e-c21e9d80f200"
      },
      "execution_count": 35,
      "outputs": [
        {
          "output_type": "stream",
          "name": "stdout",
          "text": [
            "cnn_3d_model(\n",
            "  (layer1): Sequential(\n",
            "    (0): Conv3d(1, 64, kernel_size=(3, 3, 3), stride=(1, 1, 1))\n",
            "    (1): ReLU()\n",
            "    (2): MaxPool3d(kernel_size=2, stride=2, padding=0, dilation=1, ceil_mode=False)\n",
            "    (3): BatchNorm3d(64, eps=1e-05, momentum=0.1, affine=True, track_running_stats=True)\n",
            "  )\n",
            "  (layer2_1): Sequential(\n",
            "    (0): Conv3d(64, 64, kernel_size=(3, 3, 3), stride=(1, 1, 1), padding=(1, 1, 1))\n",
            "    (1): ReLU()\n",
            "    (2): Conv3d(64, 64, kernel_size=(3, 3, 3), stride=(1, 1, 1), padding=(1, 1, 1))\n",
            "  )\n",
            "  (layer2_2): Sequential(\n",
            "    (0): MaxPool3d(kernel_size=2, stride=2, padding=0, dilation=1, ceil_mode=False)\n",
            "    (1): BatchNorm3d(64, eps=1e-05, momentum=0.1, affine=True, track_running_stats=True)\n",
            "  )\n",
            "  (layer3): Sequential(\n",
            "    (0): Conv3d(64, 128, kernel_size=(3, 3, 3), stride=(1, 1, 1))\n",
            "    (1): ReLU()\n",
            "    (2): MaxPool3d(kernel_size=2, stride=2, padding=0, dilation=1, ceil_mode=False)\n",
            "    (3): BatchNorm3d(128, eps=1e-05, momentum=0.1, affine=True, track_running_stats=True)\n",
            "  )\n",
            "  (layer4): Sequential(\n",
            "    (0): Conv3d(128, 256, kernel_size=(3, 3, 3), stride=(1, 1, 1))\n",
            "    (1): ReLU()\n",
            "    (2): MaxPool3d(kernel_size=2, stride=2, padding=0, dilation=1, ceil_mode=False)\n",
            "    (3): BatchNorm3d(256, eps=1e-05, momentum=0.1, affine=True, track_running_stats=True)\n",
            "  )\n",
            "  (layer_fc1): Sequential(\n",
            "    (0): Linear(in_features=256, out_features=512, bias=True)\n",
            "    (1): ReLU()\n",
            "  )\n",
            "  (layer_fc2): Sequential(\n",
            "    (0): Linear(in_features=512, out_features=1, bias=True)\n",
            "    (1): Sigmoid()\n",
            "  )\n",
            ")\n"
          ]
        }
      ]
    }
  ],
  "metadata": {
    "accelerator": "GPU",
    "colab": {
      "provenance": []
    },
    "gpuClass": "standard",
    "kernelspec": {
      "display_name": "Python 3",
      "name": "python3"
    },
    "language_info": {
      "name": "python"
    },
    "widgets": {
      "application/vnd.jupyter.widget-state+json": {
        "3ff89e5d48e54d86b614e388577132ba": {
          "model_module": "@jupyter-widgets/controls",
          "model_name": "HBoxModel",
          "model_module_version": "1.5.0",
          "state": {
            "_dom_classes": [],
            "_model_module": "@jupyter-widgets/controls",
            "_model_module_version": "1.5.0",
            "_model_name": "HBoxModel",
            "_view_count": null,
            "_view_module": "@jupyter-widgets/controls",
            "_view_module_version": "1.5.0",
            "_view_name": "HBoxView",
            "box_style": "",
            "children": [
              "IPY_MODEL_b2d6268fa07f43229c148fede6af1c7c",
              "IPY_MODEL_9ac4fb8d84b345879f51dfa8ef9b3ec0",
              "IPY_MODEL_be7f5dd615474195a026537a516494a1"
            ],
            "layout": "IPY_MODEL_e896d36003b74a8fa2c6947bfae3f8a0"
          }
        },
        "b2d6268fa07f43229c148fede6af1c7c": {
          "model_module": "@jupyter-widgets/controls",
          "model_name": "HTMLModel",
          "model_module_version": "1.5.0",
          "state": {
            "_dom_classes": [],
            "_model_module": "@jupyter-widgets/controls",
            "_model_module_version": "1.5.0",
            "_model_name": "HTMLModel",
            "_view_count": null,
            "_view_module": "@jupyter-widgets/controls",
            "_view_module_version": "1.5.0",
            "_view_name": "HTMLView",
            "description": "",
            "description_tooltip": null,
            "layout": "IPY_MODEL_fb866fb88365406fa7f1a35c90bfecb3",
            "placeholder": "​",
            "style": "IPY_MODEL_6b90f1953f5947bdb04b798c3ad704a8",
            "value": "100%"
          }
        },
        "9ac4fb8d84b345879f51dfa8ef9b3ec0": {
          "model_module": "@jupyter-widgets/controls",
          "model_name": "FloatProgressModel",
          "model_module_version": "1.5.0",
          "state": {
            "_dom_classes": [],
            "_model_module": "@jupyter-widgets/controls",
            "_model_module_version": "1.5.0",
            "_model_name": "FloatProgressModel",
            "_view_count": null,
            "_view_module": "@jupyter-widgets/controls",
            "_view_module_version": "1.5.0",
            "_view_name": "ProgressView",
            "bar_style": "success",
            "description": "",
            "description_tooltip": null,
            "layout": "IPY_MODEL_176111f257e24d379aa929643aa58351",
            "max": 1065471431,
            "min": 0,
            "orientation": "horizontal",
            "style": "IPY_MODEL_ea1a09e8e1b24d458ed791506d4c6ef6",
            "value": 1065471431
          }
        },
        "be7f5dd615474195a026537a516494a1": {
          "model_module": "@jupyter-widgets/controls",
          "model_name": "HTMLModel",
          "model_module_version": "1.5.0",
          "state": {
            "_dom_classes": [],
            "_model_module": "@jupyter-widgets/controls",
            "_model_module_version": "1.5.0",
            "_model_name": "HTMLModel",
            "_view_count": null,
            "_view_module": "@jupyter-widgets/controls",
            "_view_module_version": "1.5.0",
            "_view_name": "HTMLView",
            "description": "",
            "description_tooltip": null,
            "layout": "IPY_MODEL_f62abf159ad840f594303779c9334cb4",
            "placeholder": "​",
            "style": "IPY_MODEL_d1cfa41be6884e3c8789a07cc85f217f",
            "value": " 0.99G/0.99G [02:30&lt;00:00, 11.1MB/s]"
          }
        },
        "e896d36003b74a8fa2c6947bfae3f8a0": {
          "model_module": "@jupyter-widgets/base",
          "model_name": "LayoutModel",
          "model_module_version": "1.2.0",
          "state": {
            "_model_module": "@jupyter-widgets/base",
            "_model_module_version": "1.2.0",
            "_model_name": "LayoutModel",
            "_view_count": null,
            "_view_module": "@jupyter-widgets/base",
            "_view_module_version": "1.2.0",
            "_view_name": "LayoutView",
            "align_content": null,
            "align_items": null,
            "align_self": null,
            "border": null,
            "bottom": null,
            "display": null,
            "flex": null,
            "flex_flow": null,
            "grid_area": null,
            "grid_auto_columns": null,
            "grid_auto_flow": null,
            "grid_auto_rows": null,
            "grid_column": null,
            "grid_gap": null,
            "grid_row": null,
            "grid_template_areas": null,
            "grid_template_columns": null,
            "grid_template_rows": null,
            "height": null,
            "justify_content": null,
            "justify_items": null,
            "left": null,
            "margin": null,
            "max_height": null,
            "max_width": null,
            "min_height": null,
            "min_width": null,
            "object_fit": null,
            "object_position": null,
            "order": null,
            "overflow": null,
            "overflow_x": null,
            "overflow_y": null,
            "padding": null,
            "right": null,
            "top": null,
            "visibility": null,
            "width": null
          }
        },
        "fb866fb88365406fa7f1a35c90bfecb3": {
          "model_module": "@jupyter-widgets/base",
          "model_name": "LayoutModel",
          "model_module_version": "1.2.0",
          "state": {
            "_model_module": "@jupyter-widgets/base",
            "_model_module_version": "1.2.0",
            "_model_name": "LayoutModel",
            "_view_count": null,
            "_view_module": "@jupyter-widgets/base",
            "_view_module_version": "1.2.0",
            "_view_name": "LayoutView",
            "align_content": null,
            "align_items": null,
            "align_self": null,
            "border": null,
            "bottom": null,
            "display": null,
            "flex": null,
            "flex_flow": null,
            "grid_area": null,
            "grid_auto_columns": null,
            "grid_auto_flow": null,
            "grid_auto_rows": null,
            "grid_column": null,
            "grid_gap": null,
            "grid_row": null,
            "grid_template_areas": null,
            "grid_template_columns": null,
            "grid_template_rows": null,
            "height": null,
            "justify_content": null,
            "justify_items": null,
            "left": null,
            "margin": null,
            "max_height": null,
            "max_width": null,
            "min_height": null,
            "min_width": null,
            "object_fit": null,
            "object_position": null,
            "order": null,
            "overflow": null,
            "overflow_x": null,
            "overflow_y": null,
            "padding": null,
            "right": null,
            "top": null,
            "visibility": null,
            "width": null
          }
        },
        "6b90f1953f5947bdb04b798c3ad704a8": {
          "model_module": "@jupyter-widgets/controls",
          "model_name": "DescriptionStyleModel",
          "model_module_version": "1.5.0",
          "state": {
            "_model_module": "@jupyter-widgets/controls",
            "_model_module_version": "1.5.0",
            "_model_name": "DescriptionStyleModel",
            "_view_count": null,
            "_view_module": "@jupyter-widgets/base",
            "_view_module_version": "1.2.0",
            "_view_name": "StyleView",
            "description_width": ""
          }
        },
        "176111f257e24d379aa929643aa58351": {
          "model_module": "@jupyter-widgets/base",
          "model_name": "LayoutModel",
          "model_module_version": "1.2.0",
          "state": {
            "_model_module": "@jupyter-widgets/base",
            "_model_module_version": "1.2.0",
            "_model_name": "LayoutModel",
            "_view_count": null,
            "_view_module": "@jupyter-widgets/base",
            "_view_module_version": "1.2.0",
            "_view_name": "LayoutView",
            "align_content": null,
            "align_items": null,
            "align_self": null,
            "border": null,
            "bottom": null,
            "display": null,
            "flex": null,
            "flex_flow": null,
            "grid_area": null,
            "grid_auto_columns": null,
            "grid_auto_flow": null,
            "grid_auto_rows": null,
            "grid_column": null,
            "grid_gap": null,
            "grid_row": null,
            "grid_template_areas": null,
            "grid_template_columns": null,
            "grid_template_rows": null,
            "height": null,
            "justify_content": null,
            "justify_items": null,
            "left": null,
            "margin": null,
            "max_height": null,
            "max_width": null,
            "min_height": null,
            "min_width": null,
            "object_fit": null,
            "object_position": null,
            "order": null,
            "overflow": null,
            "overflow_x": null,
            "overflow_y": null,
            "padding": null,
            "right": null,
            "top": null,
            "visibility": null,
            "width": null
          }
        },
        "ea1a09e8e1b24d458ed791506d4c6ef6": {
          "model_module": "@jupyter-widgets/controls",
          "model_name": "ProgressStyleModel",
          "model_module_version": "1.5.0",
          "state": {
            "_model_module": "@jupyter-widgets/controls",
            "_model_module_version": "1.5.0",
            "_model_name": "ProgressStyleModel",
            "_view_count": null,
            "_view_module": "@jupyter-widgets/base",
            "_view_module_version": "1.2.0",
            "_view_name": "StyleView",
            "bar_color": null,
            "description_width": ""
          }
        },
        "f62abf159ad840f594303779c9334cb4": {
          "model_module": "@jupyter-widgets/base",
          "model_name": "LayoutModel",
          "model_module_version": "1.2.0",
          "state": {
            "_model_module": "@jupyter-widgets/base",
            "_model_module_version": "1.2.0",
            "_model_name": "LayoutModel",
            "_view_count": null,
            "_view_module": "@jupyter-widgets/base",
            "_view_module_version": "1.2.0",
            "_view_name": "LayoutView",
            "align_content": null,
            "align_items": null,
            "align_self": null,
            "border": null,
            "bottom": null,
            "display": null,
            "flex": null,
            "flex_flow": null,
            "grid_area": null,
            "grid_auto_columns": null,
            "grid_auto_flow": null,
            "grid_auto_rows": null,
            "grid_column": null,
            "grid_gap": null,
            "grid_row": null,
            "grid_template_areas": null,
            "grid_template_columns": null,
            "grid_template_rows": null,
            "height": null,
            "justify_content": null,
            "justify_items": null,
            "left": null,
            "margin": null,
            "max_height": null,
            "max_width": null,
            "min_height": null,
            "min_width": null,
            "object_fit": null,
            "object_position": null,
            "order": null,
            "overflow": null,
            "overflow_x": null,
            "overflow_y": null,
            "padding": null,
            "right": null,
            "top": null,
            "visibility": null,
            "width": null
          }
        },
        "d1cfa41be6884e3c8789a07cc85f217f": {
          "model_module": "@jupyter-widgets/controls",
          "model_name": "DescriptionStyleModel",
          "model_module_version": "1.5.0",
          "state": {
            "_model_module": "@jupyter-widgets/controls",
            "_model_module_version": "1.5.0",
            "_model_name": "DescriptionStyleModel",
            "_view_count": null,
            "_view_module": "@jupyter-widgets/base",
            "_view_module_version": "1.2.0",
            "_view_name": "StyleView",
            "description_width": ""
          }
        },
        "edfb6f4922b04b09a4028b37fbb9e0f4": {
          "model_module": "@jupyter-widgets/controls",
          "model_name": "HBoxModel",
          "model_module_version": "1.5.0",
          "state": {
            "_dom_classes": [],
            "_model_module": "@jupyter-widgets/controls",
            "_model_module_version": "1.5.0",
            "_model_name": "HBoxModel",
            "_view_count": null,
            "_view_module": "@jupyter-widgets/controls",
            "_view_module_version": "1.5.0",
            "_view_name": "HBoxView",
            "box_style": "",
            "children": [
              "IPY_MODEL_d21628ae92ff491993a983c9aab2fefa",
              "IPY_MODEL_2a71a88b52284c5a8489da0aad9d7007",
              "IPY_MODEL_1f3c093bd9044305a5ccde8c71bcd0ff"
            ],
            "layout": "IPY_MODEL_7d553b2044894916bf62039e89d4d2a0"
          }
        },
        "d21628ae92ff491993a983c9aab2fefa": {
          "model_module": "@jupyter-widgets/controls",
          "model_name": "HTMLModel",
          "model_module_version": "1.5.0",
          "state": {
            "_dom_classes": [],
            "_model_module": "@jupyter-widgets/controls",
            "_model_module_version": "1.5.0",
            "_model_name": "HTMLModel",
            "_view_count": null,
            "_view_module": "@jupyter-widgets/controls",
            "_view_module_version": "1.5.0",
            "_view_name": "HTMLView",
            "description": "",
            "description_tooltip": null,
            "layout": "IPY_MODEL_9217e6cfeae34080bedee2b329f24aee",
            "placeholder": "​",
            "style": "IPY_MODEL_9e13ac681be24717a7c91e4fdf56179a",
            "value": "100%"
          }
        },
        "2a71a88b52284c5a8489da0aad9d7007": {
          "model_module": "@jupyter-widgets/controls",
          "model_name": "FloatProgressModel",
          "model_module_version": "1.5.0",
          "state": {
            "_dom_classes": [],
            "_model_module": "@jupyter-widgets/controls",
            "_model_module_version": "1.5.0",
            "_model_name": "FloatProgressModel",
            "_view_count": null,
            "_view_module": "@jupyter-widgets/controls",
            "_view_module_version": "1.5.0",
            "_view_name": "ProgressView",
            "bar_style": "success",
            "description": "",
            "description_tooltip": null,
            "layout": "IPY_MODEL_c12723e68e5c444cb57b67d12836e7bb",
            "max": 1045162547,
            "min": 0,
            "orientation": "horizontal",
            "style": "IPY_MODEL_447ac2da5def4d4ca0128fc107d6826b",
            "value": 1045162547
          }
        },
        "1f3c093bd9044305a5ccde8c71bcd0ff": {
          "model_module": "@jupyter-widgets/controls",
          "model_name": "HTMLModel",
          "model_module_version": "1.5.0",
          "state": {
            "_dom_classes": [],
            "_model_module": "@jupyter-widgets/controls",
            "_model_module_version": "1.5.0",
            "_model_name": "HTMLModel",
            "_view_count": null,
            "_view_module": "@jupyter-widgets/controls",
            "_view_module_version": "1.5.0",
            "_view_name": "HTMLView",
            "description": "",
            "description_tooltip": null,
            "layout": "IPY_MODEL_aab80dcfcab14e18ab9c221c19fa1853",
            "placeholder": "​",
            "style": "IPY_MODEL_184af8cb2d9a4a9ab6076f8ec5a573d5",
            "value": " 997M/997M [03:15&lt;00:00, 2.44MB/s]"
          }
        },
        "7d553b2044894916bf62039e89d4d2a0": {
          "model_module": "@jupyter-widgets/base",
          "model_name": "LayoutModel",
          "model_module_version": "1.2.0",
          "state": {
            "_model_module": "@jupyter-widgets/base",
            "_model_module_version": "1.2.0",
            "_model_name": "LayoutModel",
            "_view_count": null,
            "_view_module": "@jupyter-widgets/base",
            "_view_module_version": "1.2.0",
            "_view_name": "LayoutView",
            "align_content": null,
            "align_items": null,
            "align_self": null,
            "border": null,
            "bottom": null,
            "display": null,
            "flex": null,
            "flex_flow": null,
            "grid_area": null,
            "grid_auto_columns": null,
            "grid_auto_flow": null,
            "grid_auto_rows": null,
            "grid_column": null,
            "grid_gap": null,
            "grid_row": null,
            "grid_template_areas": null,
            "grid_template_columns": null,
            "grid_template_rows": null,
            "height": null,
            "justify_content": null,
            "justify_items": null,
            "left": null,
            "margin": null,
            "max_height": null,
            "max_width": null,
            "min_height": null,
            "min_width": null,
            "object_fit": null,
            "object_position": null,
            "order": null,
            "overflow": null,
            "overflow_x": null,
            "overflow_y": null,
            "padding": null,
            "right": null,
            "top": null,
            "visibility": null,
            "width": null
          }
        },
        "9217e6cfeae34080bedee2b329f24aee": {
          "model_module": "@jupyter-widgets/base",
          "model_name": "LayoutModel",
          "model_module_version": "1.2.0",
          "state": {
            "_model_module": "@jupyter-widgets/base",
            "_model_module_version": "1.2.0",
            "_model_name": "LayoutModel",
            "_view_count": null,
            "_view_module": "@jupyter-widgets/base",
            "_view_module_version": "1.2.0",
            "_view_name": "LayoutView",
            "align_content": null,
            "align_items": null,
            "align_self": null,
            "border": null,
            "bottom": null,
            "display": null,
            "flex": null,
            "flex_flow": null,
            "grid_area": null,
            "grid_auto_columns": null,
            "grid_auto_flow": null,
            "grid_auto_rows": null,
            "grid_column": null,
            "grid_gap": null,
            "grid_row": null,
            "grid_template_areas": null,
            "grid_template_columns": null,
            "grid_template_rows": null,
            "height": null,
            "justify_content": null,
            "justify_items": null,
            "left": null,
            "margin": null,
            "max_height": null,
            "max_width": null,
            "min_height": null,
            "min_width": null,
            "object_fit": null,
            "object_position": null,
            "order": null,
            "overflow": null,
            "overflow_x": null,
            "overflow_y": null,
            "padding": null,
            "right": null,
            "top": null,
            "visibility": null,
            "width": null
          }
        },
        "9e13ac681be24717a7c91e4fdf56179a": {
          "model_module": "@jupyter-widgets/controls",
          "model_name": "DescriptionStyleModel",
          "model_module_version": "1.5.0",
          "state": {
            "_model_module": "@jupyter-widgets/controls",
            "_model_module_version": "1.5.0",
            "_model_name": "DescriptionStyleModel",
            "_view_count": null,
            "_view_module": "@jupyter-widgets/base",
            "_view_module_version": "1.2.0",
            "_view_name": "StyleView",
            "description_width": ""
          }
        },
        "c12723e68e5c444cb57b67d12836e7bb": {
          "model_module": "@jupyter-widgets/base",
          "model_name": "LayoutModel",
          "model_module_version": "1.2.0",
          "state": {
            "_model_module": "@jupyter-widgets/base",
            "_model_module_version": "1.2.0",
            "_model_name": "LayoutModel",
            "_view_count": null,
            "_view_module": "@jupyter-widgets/base",
            "_view_module_version": "1.2.0",
            "_view_name": "LayoutView",
            "align_content": null,
            "align_items": null,
            "align_self": null,
            "border": null,
            "bottom": null,
            "display": null,
            "flex": null,
            "flex_flow": null,
            "grid_area": null,
            "grid_auto_columns": null,
            "grid_auto_flow": null,
            "grid_auto_rows": null,
            "grid_column": null,
            "grid_gap": null,
            "grid_row": null,
            "grid_template_areas": null,
            "grid_template_columns": null,
            "grid_template_rows": null,
            "height": null,
            "justify_content": null,
            "justify_items": null,
            "left": null,
            "margin": null,
            "max_height": null,
            "max_width": null,
            "min_height": null,
            "min_width": null,
            "object_fit": null,
            "object_position": null,
            "order": null,
            "overflow": null,
            "overflow_x": null,
            "overflow_y": null,
            "padding": null,
            "right": null,
            "top": null,
            "visibility": null,
            "width": null
          }
        },
        "447ac2da5def4d4ca0128fc107d6826b": {
          "model_module": "@jupyter-widgets/controls",
          "model_name": "ProgressStyleModel",
          "model_module_version": "1.5.0",
          "state": {
            "_model_module": "@jupyter-widgets/controls",
            "_model_module_version": "1.5.0",
            "_model_name": "ProgressStyleModel",
            "_view_count": null,
            "_view_module": "@jupyter-widgets/base",
            "_view_module_version": "1.2.0",
            "_view_name": "StyleView",
            "bar_color": null,
            "description_width": ""
          }
        },
        "aab80dcfcab14e18ab9c221c19fa1853": {
          "model_module": "@jupyter-widgets/base",
          "model_name": "LayoutModel",
          "model_module_version": "1.2.0",
          "state": {
            "_model_module": "@jupyter-widgets/base",
            "_model_module_version": "1.2.0",
            "_model_name": "LayoutModel",
            "_view_count": null,
            "_view_module": "@jupyter-widgets/base",
            "_view_module_version": "1.2.0",
            "_view_name": "LayoutView",
            "align_content": null,
            "align_items": null,
            "align_self": null,
            "border": null,
            "bottom": null,
            "display": null,
            "flex": null,
            "flex_flow": null,
            "grid_area": null,
            "grid_auto_columns": null,
            "grid_auto_flow": null,
            "grid_auto_rows": null,
            "grid_column": null,
            "grid_gap": null,
            "grid_row": null,
            "grid_template_areas": null,
            "grid_template_columns": null,
            "grid_template_rows": null,
            "height": null,
            "justify_content": null,
            "justify_items": null,
            "left": null,
            "margin": null,
            "max_height": null,
            "max_width": null,
            "min_height": null,
            "min_width": null,
            "object_fit": null,
            "object_position": null,
            "order": null,
            "overflow": null,
            "overflow_x": null,
            "overflow_y": null,
            "padding": null,
            "right": null,
            "top": null,
            "visibility": null,
            "width": null
          }
        },
        "184af8cb2d9a4a9ab6076f8ec5a573d5": {
          "model_module": "@jupyter-widgets/controls",
          "model_name": "DescriptionStyleModel",
          "model_module_version": "1.5.0",
          "state": {
            "_model_module": "@jupyter-widgets/controls",
            "_model_module_version": "1.5.0",
            "_model_name": "DescriptionStyleModel",
            "_view_count": null,
            "_view_module": "@jupyter-widgets/base",
            "_view_module_version": "1.2.0",
            "_view_name": "StyleView",
            "description_width": ""
          }
        }
      }
    }
  },
  "nbformat": 4,
  "nbformat_minor": 0
}