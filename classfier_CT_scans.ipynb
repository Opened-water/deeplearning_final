{
  "cells": [
    {
      "cell_type": "markdown",
      "metadata": {
        "id": "KOrBh9UHL_nt"
      },
      "source": [
        "# **3D CNN from CT**"
      ]
    },
    {
      "cell_type": "markdown",
      "metadata": {
        "id": "ZkPFXv_jQQX6"
      },
      "source": [
        "# Set up"
      ]
    },
    {
      "cell_type": "code",
      "execution_count": 1,
      "metadata": {
        "id": "KeUaZYXAQSY1"
      },
      "outputs": [],
      "source": [
        "import os\n",
        "import zipfile\n",
        "import numpy as np\n",
        "import torch\n",
        "import torchvision.datasets as dsets\n",
        "import torchvision.transforms as transforms\n",
        "import torch.nn.init\n",
        "import torch.utils.model_zoo\n",
        "import torch.nn.functional\n",
        "import matplotlib.pyplot as plt"
      ]
    },
    {
      "cell_type": "code",
      "execution_count": 3,
      "metadata": {
        "id": "Zn5HsK4sQ989"
      },
      "outputs": [],
      "source": [
        "device = 'cuda' if torch.cuda.is_available() else 'cpu'\n",
        "\n",
        "# 랜덤 시드 고정\n",
        "torch.manual_seed(42)\n",
        "np.random.seed(42)\n",
        "\n",
        "\n",
        "\n",
        "# GPU 사용 가능일 경우 랜덤 시드 고정\n",
        "if device == 'cuda':\n",
        "    torch.cuda.manual_seed_all(42)"
      ]
    },
    {
      "cell_type": "markdown",
      "metadata": {
        "id": "dPZUyCwIP9GG"
      },
      "source": [
        "# Downroad data"
      ]
    },
    {
      "cell_type": "code",
      "execution_count": 6,
      "metadata": {
        "id": "B9TG8wWLR10p"
      },
      "outputs": [],
      "source": [
        "# Download url of normal CT scans.\n",
        "url = \"https://github.com/hasibzunair/3D-image-classification-tutorial/releases/download/v0.2/CT-0.zip\"\n",
        "filename = os.path.join(os.getcwd(), \"CT-0.zip\")\n",
        "try :\n",
        "  torch.utils.model_zoo.load_url(url, file_name=filename)\n",
        "except :\n",
        "  pass\n",
        "\n",
        "# Download url of abnormal CT scans.\n",
        "url = \"https://github.com/hasibzunair/3D-image-classification-tutorial/releases/download/v0.2/CT-23.zip\"\n",
        "filename = os.path.join(os.getcwd(), \"CT-23.zip\")\n",
        "try :\n",
        "  torch.utils.model_zoo.load_url(url, file_name=filename)\n",
        "except :\n",
        "  pass\n",
        "\n",
        "# Make a directory to store the data.\n",
        "os.makedirs(\"MosMedData\")\n",
        "\n",
        "# Unzip data in the newly created directory.\n",
        "with zipfile.ZipFile(\"CT-0.zip\", \"r\") as z_fp:\n",
        "    z_fp.extractall(\"./MosMedData/\")\n",
        "\n",
        "with zipfile.ZipFile(\"CT-23.zip\", \"r\") as z_fp:\n",
        "    z_fp.extractall(\"./MosMedData/\")\n",
        "  "
      ]
    },
    {
      "cell_type": "markdown",
      "metadata": {
        "id": "9y05iehcWIFa"
      },
      "source": [
        "# Preprocessing"
      ]
    },
    {
      "cell_type": "code",
      "execution_count": 7,
      "metadata": {
        "id": "h-NevkEJvpSD"
      },
      "outputs": [],
      "source": [
        "import nibabel as nib\n",
        "\n",
        "from scipy import ndimage\n",
        "\n",
        "\n",
        "def read_nifti_file(filepath):\n",
        "    \"\"\"Read and load volume\"\"\"\n",
        "    # Read file\n",
        "    scan = nib.load(filepath)\n",
        "    # Get raw data\n",
        "    scan = scan.get_fdata()\n",
        "    return scan\n",
        "\n",
        "\n",
        "def normalize(volume):\n",
        "    \"\"\"Normalize the volume\"\"\"\n",
        "    min = -1000\n",
        "    max = 400\n",
        "    volume[volume < min] = min\n",
        "    volume[volume > max] = max\n",
        "    volume = (volume - min) / (max - min)\n",
        "    volume = volume.astype(\"float32\")\n",
        "    return volume\n",
        "\n",
        "\n",
        "def resize_volume(img):\n",
        "    \"\"\"Resize across z-axis\"\"\"\n",
        "    # Set the desired depth\n",
        "    desired_depth = 64\n",
        "    desired_width = 128\n",
        "    desired_height = 128\n",
        "    # Get current depth\n",
        "    current_depth = img.shape[-1]\n",
        "    current_width = img.shape[0]\n",
        "    current_height = img.shape[1]\n",
        "    # Compute depth factor\n",
        "    depth = current_depth / desired_depth\n",
        "    width = current_width / desired_width\n",
        "    height = current_height / desired_height\n",
        "    depth_factor = 1 / depth\n",
        "    width_factor = 1 / width\n",
        "    height_factor = 1 / height\n",
        "    # Rotate\n",
        "    img = ndimage.rotate(img, 90, reshape=False)\n",
        "    # Resize across z-axis\n",
        "    img = ndimage.zoom(img, (width_factor, height_factor, depth_factor), order=1)\n",
        "    return img\n",
        "\n",
        "\n",
        "def process_scan(path):\n",
        "    \"\"\"Read and resize volume\"\"\"\n",
        "    # Read scan\n",
        "    volume = read_nifti_file(path)\n",
        "    # Normalize\n",
        "    volume = normalize(volume)\n",
        "    # Resize width, height and depth\n",
        "    volume = resize_volume(volume)\n",
        "    # Reshape to (Depth, Height, Width)\n",
        "    volume = volume.reshape((volume.shape[-1],volume.shape[1],volume.shape[0]))\n",
        "    volume = np.expand_dims(volume, axis = 0)\n",
        "    return volume"
      ]
    },
    {
      "cell_type": "code",
      "execution_count": 8,
      "metadata": {
        "colab": {
          "base_uri": "https://localhost:8080/"
        },
        "id": "j2vxRJfuvyRx",
        "outputId": "e3da6904-19d7-4e62-e8dc-ad40701c903a"
      },
      "outputs": [
        {
          "output_type": "stream",
          "name": "stdout",
          "text": [
            "CT scans with normal lung tissue: 100\n",
            "CT scans with abnormal lung tissue: 100\n"
          ]
        }
      ],
      "source": [
        "# Folder \"CT-0\" consist of CT scans having normal lung tissue,\n",
        "# no CT-signs of viral pneumonia.\n",
        "normal_scan_paths = [\n",
        "    os.path.join(os.getcwd(), \"MosMedData/CT-0\", x)\n",
        "    for x in os.listdir(\"MosMedData/CT-0\")\n",
        "]\n",
        "# Folder \"CT-23\" consist of CT scans having several ground-glass opacifications,\n",
        "# involvement of lung parenchyma.\n",
        "abnormal_scan_paths = [\n",
        "    os.path.join(os.getcwd(), \"MosMedData/CT-23\", x)\n",
        "    for x in os.listdir(\"MosMedData/CT-23\")\n",
        "]\n",
        "\n",
        "print(\"CT scans with normal lung tissue: \" + str(len(normal_scan_paths)))\n",
        "print(\"CT scans with abnormal lung tissue: \" + str(len(abnormal_scan_paths)))\n"
      ]
    },
    {
      "cell_type": "code",
      "execution_count": 9,
      "metadata": {
        "colab": {
          "base_uri": "https://localhost:8080/"
        },
        "id": "L7EMuZeaw5hK",
        "outputId": "16cb943f-c51e-40e9-cf76-297c4976fc0a"
      },
      "outputs": [
        {
          "output_type": "stream",
          "name": "stdout",
          "text": [
            "Number of samples in train and validation are 140 and 60.\n"
          ]
        }
      ],
      "source": [
        "  # Read and process the scans.\n",
        "  # Each scan is resized across height, width, and depth and rescaled.\n",
        "  abnormal_scans = np.array([process_scan(path) for path in abnormal_scan_paths])\n",
        "  normal_scans = np.array([process_scan(path) for path in normal_scan_paths])\n",
        "\n",
        "  # For the CT scans having presence of viral pneumonia\n",
        "  # assign 1, for the normal ones assign 0.\n",
        "  abnormal_labels = np.array([1 for _ in range(len(abnormal_scans))],dtype = np.float32)\n",
        "  normal_labels = np.array([0 for _ in range(len(normal_scans))],dtype = np.float32)\n",
        "\n",
        "  # Split data in the ratio 70-30 for training and validation.\n",
        "x_train = np.concatenate((abnormal_scans[:70], normal_scans[:70]), axis=0)\n",
        "y_train = np.concatenate((abnormal_labels[:70], normal_labels[:70]), axis=0)\n",
        "x_val = np.concatenate((abnormal_scans[70:], normal_scans[70:]), axis=0)\n",
        "y_val = np.concatenate((abnormal_labels[70:], normal_labels[70:]), axis=0)\n",
        "print(\n",
        "    \"Number of samples in train and validation are %d and %d.\"\n",
        "    % (x_train.shape[0], x_val.shape[0])\n",
        ")"
      ]
    },
    {
      "cell_type": "markdown",
      "metadata": {
        "id": "BGOKUN9i1UuD"
      },
      "source": [
        "# Data to Data loader"
      ]
    },
    {
      "cell_type": "code",
      "execution_count": 10,
      "metadata": {
        "colab": {
          "base_uri": "https://localhost:8080/"
        },
        "id": "VaUv4kd7x4qN",
        "outputId": "0b594d87-933d-4f9d-ec1d-4fc8a9f0fe97"
      },
      "outputs": [
        {
          "output_type": "stream",
          "name": "stdout",
          "text": [
            "Number of samples in train and validation are 140 and 60.\n"
          ]
        }
      ],
      "source": [
        "  # Split data in the ratio 70-30 for training and validation.\n",
        "x_train = torch.from_numpy(np.concatenate((abnormal_scans[:70], normal_scans[:70]), axis=0))\n",
        "y_train = torch.from_numpy(np.concatenate((abnormal_labels[:70], normal_labels[:70]), axis=0))\n",
        "x_val = torch.from_numpy(np.concatenate((abnormal_scans[70:], normal_scans[70:]), axis=0))\n",
        "y_val = torch.from_numpy(np.concatenate((abnormal_labels[70:], normal_labels[70:]), axis=0))\n",
        "print(\n",
        "    \"Number of samples in train and validation are %d and %d.\"\n",
        "    % (x_train.shape[0], x_val.shape[0])\n",
        ")"
      ]
    },
    {
      "cell_type": "code",
      "execution_count": 11,
      "metadata": {
        "id": "RTeMjD-SXiat"
      },
      "outputs": [],
      "source": [
        "from torch.utils.data import TensorDataset # 텐서데이터셋\n",
        "from torch.utils.data import DataLoader # 데이터로더\n",
        "\n",
        "train_dataset = TensorDataset(x_train, y_train)\n",
        "train_dataloader = DataLoader(train_dataset, batch_size=4, shuffle=True)\n",
        "\n",
        "valid_dataset = TensorDataset(x_val, y_val)\n",
        "valid_dataloader = DataLoader(valid_dataset, batch_size=2, shuffle=True)"
      ]
    },
    {
      "cell_type": "markdown",
      "metadata": {
        "id": "ApSTfeoxZ5fI"
      },
      "source": [
        "# Hyperparameter set up "
      ]
    },
    {
      "cell_type": "code",
      "execution_count": 12,
      "metadata": {
        "id": "GLnT7zcOZ8DF"
      },
      "outputs": [],
      "source": [
        "learning_rate = 0.0001\n",
        "training_epochs = 60"
      ]
    },
    {
      "cell_type": "markdown",
      "metadata": {
        "id": "CW6CZPdFQ9AG"
      },
      "source": [
        "# 3D-CNN model defination"
      ]
    },
    {
      "cell_type": "code",
      "execution_count": 13,
      "metadata": {
        "id": "NELo8JHYQ8os"
      },
      "outputs": [],
      "source": [
        "class cnn_3d_model(torch.nn.Module):\n",
        "\n",
        "    def __init__(self):\n",
        "        super(cnn_3d_model, self).__init__()\n",
        "\n",
        "        # 첫번째층\n",
        "        # ImgIn shape=(128, 128, 64,1)\n",
        "        #    Conv     -> (126,126,62,64)\n",
        "        #    Pool     -> (61,61,31,64)\n",
        "        self.layer1 = torch.nn.Sequential(\n",
        "            torch.nn.Conv3d(1, 64, kernel_size=3),\n",
        "            torch.nn.ReLU(),\n",
        "            torch.nn.MaxPool3d(kernel_size=2, stride=2),\n",
        "            torch.nn.BatchNorm3d(num_features = 64)\n",
        "            )\n",
        "\n",
        "        self.layer2 = torch.nn.Sequential(\n",
        "            torch.nn.Conv3d(64, 64, kernel_size=3),\n",
        "            torch.nn.ReLU(),\n",
        "            torch.nn.MaxPool3d(kernel_size=2, stride=2),\n",
        "            torch.nn.BatchNorm3d(num_features = 64)\n",
        "            )\n",
        "        \n",
        "        self.layer3 = torch.nn.Sequential(\n",
        "            torch.nn.Conv3d(64, 128, kernel_size=3),\n",
        "            torch.nn.ReLU(),\n",
        "            torch.nn.MaxPool3d(kernel_size=2, stride=2),\n",
        "            torch.nn.BatchNorm3d(num_features = 128)\n",
        "            )    \n",
        "        \n",
        "        self.layer4 = torch.nn.Sequential(\n",
        "            torch.nn.Conv3d(128, 256, kernel_size=3),\n",
        "            torch.nn.ReLU(),\n",
        "            torch.nn.MaxPool3d(kernel_size=2, stride=2),\n",
        "            torch.nn.BatchNorm3d(num_features = 256)\n",
        "            )\n",
        "        \n",
        "        # global average pool 은 forward에서 \n",
        "\n",
        "\n",
        "        self.layer_fc1 = torch.nn.Sequential(\n",
        "            torch.nn.Linear(256, 512),\n",
        "            torch.nn.ReLU() \n",
        "        )\n",
        "\n",
        "        self.layer_fc2 = torch.nn.Sequential(\n",
        "            torch.nn.Linear(512, 1),\n",
        "            torch.nn.Sigmoid() \n",
        "        )\n",
        "\n",
        "    def forward(self, x):\n",
        "        out = self.layer1(x)\n",
        "        out = self.layer2(out)\n",
        "        out = self.layer3(out)\n",
        "        out = self.layer4(out)\n",
        "        out = out.view(out.shape[0],-1, 256)   # globalaveragepooling 과정1\n",
        "        out = torch.mean(out,1)   # globalaveragepooling 과정2\n",
        "        out = self.layer_fc1(out)\n",
        "        out = torch.nn.Dropout(p=0.3)(out)\n",
        "        out = self.layer_fc2(out)\n",
        "        return out"
      ]
    },
    {
      "cell_type": "code",
      "execution_count": 14,
      "metadata": {
        "id": "3Wnl7C1xiMVP"
      },
      "outputs": [],
      "source": [
        "model = cnn_3d_model().to(device)"
      ]
    },
    {
      "cell_type": "code",
      "execution_count": 15,
      "metadata": {
        "id": "7u35iMiSiWqS"
      },
      "outputs": [],
      "source": [
        "criterion = torch.nn.BCELoss().to(device)\n",
        "optimizer = torch.optim.Adam(model.parameters(), lr=learning_rate)"
      ]
    },
    {
      "cell_type": "markdown",
      "metadata": {
        "id": "NZj-aQLhh5Rv"
      },
      "source": [
        "# Model training"
      ]
    },
    {
      "cell_type": "code",
      "execution_count": 16,
      "metadata": {
        "id": "AU_rPKbkiKbU"
      },
      "outputs": [],
      "source": [
        "losses = []\n",
        "losses_val = []\n",
        "acc_val = []\n",
        "\n",
        "for epoch in range(training_epochs):\n",
        "    avg_cost = 0\n",
        "    train_len = len(train_dataloader)\n",
        "    val_len = len(valid_dataloader)\n",
        "\n",
        "    for X, Y in train_dataloader: # 미니 배치 단위로 꺼내온다. X는 미니 배치, Y는 레이블.\n",
        "        # image is already size of (28x28), no reshape\n",
        "        # label is not one-hot encoded\n",
        "        X = X.to(device)\n",
        "        Y = Y.to(device)\n",
        "\n",
        "        optimizer.zero_grad()\n",
        "        hypothesis = model(X)\n",
        "        cost = criterion(hypothesis.ravel(), Y)\n",
        "        cost.backward()\n",
        "        optimizer.step()\n",
        "\n",
        "        avg_cost += cost / train_len\n",
        "\n",
        "    losses.append(avg_cost.cpu().item())\n",
        "\n",
        "    with torch.no_grad():\n",
        "      avg_cost = 0\n",
        "      correct = 0\n",
        "      for X, Y in valid_dataloader:\n",
        "        X = X.to(device)\n",
        "        Y = Y.to(device)\n",
        "        \n",
        "        hypothesis = model(X)\n",
        "        cost = criterion(hypothesis.ravel(), Y)\n",
        "\n",
        "        avg_cost += cost / val_len\n",
        "\n",
        "        predicted = (hypothesis > 0.5).float().ravel()\n",
        "        correct += (predicted == Y).sum().item()\n",
        "\n",
        "      acc_val.append(correct)\n",
        "\n",
        "      losses_val.append(avg_cost.cpu().item())"
      ]
    },
    {
      "cell_type": "markdown",
      "metadata": {
        "id": "8tthZ-Bx-HpQ"
      },
      "source": [
        "# Visualizing model peformance"
      ]
    },
    {
      "cell_type": "code",
      "execution_count": 17,
      "metadata": {
        "colab": {
          "base_uri": "https://localhost:8080/",
          "height": 313
        },
        "id": "iNWRKW-aDYzA",
        "outputId": "879397c9-8352-4f36-9bf0-15095704b0a3"
      },
      "outputs": [
        {
          "output_type": "execute_result",
          "data": {
            "text/plain": [
              "<matplotlib.legend.Legend at 0x7f600ac0faf0>"
            ]
          },
          "metadata": {},
          "execution_count": 17
        },
        {
          "output_type": "display_data",
          "data": {
            "text/plain": [
              "<Figure size 432x288 with 1 Axes>"
            ],
            "image/png": "[encoded data removed]"
          },
          "metadata": {
            "needs_background": "light"
          }
        }
      ],
      "source": [
        "plt.plot(losses)\n",
        "plt.plot(losses_val)\n",
        "plt.title(\"Model losses\")\n",
        "plt.xlabel(\"epochs\")\n",
        "plt.legend([\"train\", \"val\"])"
      ]
    },
    {
      "cell_type": "code",
      "execution_count": 18,
      "metadata": {
        "colab": {
          "base_uri": "https://localhost:8080/"
        },
        "id": "SiywPH5G-Gsp",
        "outputId": "b436bca1-834f-4923-b9d2-2fdf58f6e9e8"
      },
      "outputs": [
        {
          "output_type": "stream",
          "name": "stdout",
          "text": [
            "[0.6543663144111633, 0.5938421487808228, 0.5186691284179688, 0.48618829250335693, 0.4212808310985565, 0.29499080777168274, 0.16732238233089447, 0.1255372315645218, 0.05378536880016327, 0.02717483602464199, 0.014542736113071442, 0.008652628399431705, 0.0070057217963039875, 0.006024312227964401, 0.005189049988985062, 0.004144356586039066, 0.00337474187836051, 0.0026138066314160824, 0.0024639067705720663, 0.002238695975393057, 0.0021378719247877598, 0.0017472892068326473, 0.0015237025218084455, 0.001394066959619522, 0.0016134688630700111, 0.0013023224892094731, 0.0010209624888375401, 0.0009546399232931435, 0.0010399010498076677, 0.0007951704901643097, 0.000719545700121671, 0.0006734512862749398, 0.000715513713657856, 0.0006183492951095104, 0.0005891704349778593, 0.0007474441663362086, 0.00045396448695100844, 0.00047615895164199173, 0.0005724576767534018, 0.0003933701664209366, 0.0004587310249917209, 0.00038177231908775866, 0.0003927731013391167, 0.0003103408089373261, 0.0003295260248705745, 0.00023918542137835175, 0.00034152792068198323, 0.0002552526129875332, 0.0003256643540225923, 0.0003196170728188008, 0.00021079601719975471, 0.0002740881172940135, 0.00020027969731017947, 0.00021518032008316368, 0.00022439257008954883, 0.00019636309298221022, 0.00021213848958723247, 0.00017050630412995815, 0.0001528798311483115, 0.00011781119974330068]\n"
          ]
        }
      ],
      "source": [
        "print(losses)"
      ]
    },
    {
      "cell_type": "code",
      "source": [
        "print(losses_val)"
      ],
      "metadata": {
        "id": "-CkbbtdTqvcI",
        "colab": {
          "base_uri": "https://localhost:8080/"
        },
        "outputId": "f360b2fa-459f-42d2-9751-f88eeafaa1d7"
      },
      "execution_count": 19,
      "outputs": [
        {
          "output_type": "stream",
          "name": "stdout",
          "text": [
            "[0.6512513160705566, 0.649832010269165, 0.6160213351249695, 0.6504666209220886, 0.6129375100135803, 0.6540293097496033, 0.7353602051734924, 0.706746518611908, 0.7995836138725281, 0.5841560363769531, 0.7384980320930481, 0.705078125, 0.6623814105987549, 0.7000252604484558, 0.6532990336418152, 0.6821689009666443, 0.7388709783554077, 0.678920567035675, 0.7725740075111389, 0.7142384052276611, 0.7313124537467957, 0.7262195348739624, 0.6950087547302246, 0.7157377004623413, 0.6873143911361694, 0.7209304571151733, 0.7734092473983765, 0.736181378364563, 0.6918277144432068, 0.8272223472595215, 0.8037008047103882, 0.8006280064582825, 0.7469380497932434, 0.8055111765861511, 0.8110479116439819, 0.732043981552124, 0.7255829572677612, 0.8070003986358643, 0.825093686580658, 0.747673749923706, 0.8736386299133301, 0.811937153339386, 0.8791720271110535, 0.8290286660194397, 0.7772582173347473, 0.7708500623703003, 0.8088208436965942, 0.8517481684684753, 0.7949835658073425, 0.8050468564033508, 0.823524534702301, 0.8039793372154236, 0.7808975577354431, 0.8489715456962585, 0.8382272124290466, 0.887385368347168, 0.8166714310646057, 0.8256821632385254, 0.9444618225097656, 0.8204901218414307]\n"
          ]
        }
      ]
    },
    {
      "cell_type": "code",
      "source": [
        "print(model)"
      ],
      "metadata": {
        "id": "lXnRgs4Vqysp",
        "colab": {
          "base_uri": "https://localhost:8080/"
        },
        "outputId": "dbd96fb4-ba8d-4022-fd18-e55a5d757129"
      },
      "execution_count": 20,
      "outputs": [
        {
          "output_type": "stream",
          "name": "stdout",
          "text": [
            "cnn_3d_model(\n",
            "  (layer1): Sequential(\n",
            "    (0): Conv3d(1, 64, kernel_size=(3, 3, 3), stride=(1, 1, 1))\n",
            "    (1): ReLU()\n",
            "    (2): MaxPool3d(kernel_size=2, stride=2, padding=0, dilation=1, ceil_mode=False)\n",
            "    (3): BatchNorm3d(64, eps=1e-05, momentum=0.1, affine=True, track_running_stats=True)\n",
            "  )\n",
            "  (layer2): Sequential(\n",
            "    (0): Conv3d(64, 64, kernel_size=(3, 3, 3), stride=(1, 1, 1))\n",
            "    (1): ReLU()\n",
            "    (2): MaxPool3d(kernel_size=2, stride=2, padding=0, dilation=1, ceil_mode=False)\n",
            "    (3): BatchNorm3d(64, eps=1e-05, momentum=0.1, affine=True, track_running_stats=True)\n",
            "  )\n",
            "  (layer3): Sequential(\n",
            "    (0): Conv3d(64, 128, kernel_size=(3, 3, 3), stride=(1, 1, 1))\n",
            "    (1): ReLU()\n",
            "    (2): MaxPool3d(kernel_size=2, stride=2, padding=0, dilation=1, ceil_mode=False)\n",
            "    (3): BatchNorm3d(128, eps=1e-05, momentum=0.1, affine=True, track_running_stats=True)\n",
            "  )\n",
            "  (layer4): Sequential(\n",
            "    (0): Conv3d(128, 256, kernel_size=(3, 3, 3), stride=(1, 1, 1))\n",
            "    (1): ReLU()\n",
            "    (2): MaxPool3d(kernel_size=2, stride=2, padding=0, dilation=1, ceil_mode=False)\n",
            "    (3): BatchNorm3d(256, eps=1e-05, momentum=0.1, affine=True, track_running_stats=True)\n",
            "  )\n",
            "  (layer_fc1): Sequential(\n",
            "    (0): Linear(in_features=256, out_features=512, bias=True)\n",
            "    (1): ReLU()\n",
            "  )\n",
            "  (layer_fc2): Sequential(\n",
            "    (0): Linear(in_features=512, out_features=1, bias=True)\n",
            "    (1): Sigmoid()\n",
            "  )\n",
            ")\n"
          ]
        }
      ]
    }
  ],
  "metadata": {
    "accelerator": "GPU",
    "colab": {
      "provenance": []
    },
    "gpuClass": "standard",
    "kernelspec": {
      "display_name": "Python 3",
      "name": "python3"
    },
    "language_info": {
      "name": "python"
    }
  },
  "nbformat": 4,
  "nbformat_minor": 0
}